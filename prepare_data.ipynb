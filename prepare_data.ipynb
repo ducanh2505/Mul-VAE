{
  "nbformat": 4,
  "nbformat_minor": 0,
  "metadata": {
    "accelerator": "GPU",
    "colab": {
      "name": "prepare_data.ipynb",
      "provenance": [],
      "collapsed_sections": []
    },
    "kernelspec": {
      "display_name": "Python 3",
      "name": "python3"
    },
    "language_info": {
      "name": "python"
    }
  },
  "cells": [
    {
      "cell_type": "code",
      "metadata": {
        "id": "99x1efAGmIRE"
      },
      "source": [
        ""
      ],
      "execution_count": null,
      "outputs": []
    },
    {
      "cell_type": "code",
      "metadata": {
        "id": "Wc3QKSM-mMvB"
      },
      "source": [
        ""
      ],
      "execution_count": null,
      "outputs": []
    },
    {
      "cell_type": "markdown",
      "metadata": {
        "id": "eqnBgEpBLrx-"
      },
      "source": [
        "## Import thư viện"
      ]
    },
    {
      "cell_type": "code",
      "metadata": {
        "id": "SLtRTOVtFmml"
      },
      "source": [
        "\n",
        "import numpy as np\n",
        "import  pandas as pd\n",
        "import os\n",
        "from scipy import sparse\n",
        "from sklearn.model_selection import train_test_split\n",
        "import matplotlib.pyplot as plt\n",
        "%matplotlib inline\n",
        "\n",
        "from tqdm import tqdm_notebook as tqdm\n",
        "import seaborn as sn\n",
        "sn.set()\n",
        "\n",
        "import sys\n",
        "import warnings; \n",
        "warnings.simplefilter('ignore')"
      ],
      "execution_count": null,
      "outputs": []
    },
    {
      "cell_type": "code",
      "metadata": {
        "id": "Zu881Ci0vBMy"
      },
      "source": [
        ""
      ],
      "execution_count": null,
      "outputs": []
    },
    {
      "cell_type": "code",
      "metadata": {
        "id": "SJ5nOtL0vFrp"
      },
      "source": [
        ""
      ],
      "execution_count": null,
      "outputs": []
    },
    {
      "cell_type": "code",
      "metadata": {
        "id": "xNkFoJVZvNEt"
      },
      "source": [
        ""
      ],
      "execution_count": null,
      "outputs": []
    },
    {
      "cell_type": "code",
      "metadata": {
        "colab": {
          "base_uri": "https://localhost:8080/",
          "height": 204
        },
        "id": "IcRbiBqhvb8U",
        "outputId": "6e68a788-5e76-4f1c-8d48-cf7132af0a95"
      },
      "source": [
        ""
      ],
      "execution_count": null,
      "outputs": [
        {
          "output_type": "execute_result",
          "data": {
            "text/html": [
              "<div>\n",
              "<style scoped>\n",
              "    .dataframe tbody tr th:only-of-type {\n",
              "        vertical-align: middle;\n",
              "    }\n",
              "\n",
              "    .dataframe tbody tr th {\n",
              "        vertical-align: top;\n",
              "    }\n",
              "\n",
              "    .dataframe thead th {\n",
              "        text-align: right;\n",
              "    }\n",
              "</style>\n",
              "<table border=\"1\" class=\"dataframe\">\n",
              "  <thead>\n",
              "    <tr style=\"text-align: right;\">\n",
              "      <th></th>\n",
              "      <th>Unnamed: 0</th>\n",
              "      <th>userId</th>\n",
              "      <th>movieId</th>\n",
              "      <th>rating</th>\n",
              "      <th>timestamp</th>\n",
              "      <th>sid</th>\n",
              "      <th>uid</th>\n",
              "    </tr>\n",
              "  </thead>\n",
              "  <tbody>\n",
              "    <tr>\n",
              "      <th>0</th>\n",
              "      <td>6</td>\n",
              "      <td>1</td>\n",
              "      <td>151</td>\n",
              "      <td>4.0</td>\n",
              "      <td>1094785734</td>\n",
              "      <td>1210</td>\n",
              "      <td>0</td>\n",
              "    </tr>\n",
              "    <tr>\n",
              "      <th>1</th>\n",
              "      <td>7</td>\n",
              "      <td>1</td>\n",
              "      <td>223</td>\n",
              "      <td>4.0</td>\n",
              "      <td>1112485573</td>\n",
              "      <td>47</td>\n",
              "      <td>0</td>\n",
              "    </tr>\n",
              "    <tr>\n",
              "      <th>2</th>\n",
              "      <td>8</td>\n",
              "      <td>1</td>\n",
              "      <td>253</td>\n",
              "      <td>4.0</td>\n",
              "      <td>1112484940</td>\n",
              "      <td>308</td>\n",
              "      <td>0</td>\n",
              "    </tr>\n",
              "    <tr>\n",
              "      <th>3</th>\n",
              "      <td>9</td>\n",
              "      <td>1</td>\n",
              "      <td>260</td>\n",
              "      <td>4.0</td>\n",
              "      <td>1112484826</td>\n",
              "      <td>4</td>\n",
              "      <td>0</td>\n",
              "    </tr>\n",
              "    <tr>\n",
              "      <th>4</th>\n",
              "      <td>10</td>\n",
              "      <td>1</td>\n",
              "      <td>293</td>\n",
              "      <td>4.0</td>\n",
              "      <td>1112484703</td>\n",
              "      <td>574</td>\n",
              "      <td>0</td>\n",
              "    </tr>\n",
              "  </tbody>\n",
              "</table>\n",
              "</div>"
            ],
            "text/plain": [
              "   Unnamed: 0  userId  movieId  rating   timestamp   sid  uid\n",
              "0           6       1      151     4.0  1094785734  1210    0\n",
              "1           7       1      223     4.0  1112485573    47    0\n",
              "2           8       1      253     4.0  1112484940   308    0\n",
              "3           9       1      260     4.0  1112484826     4    0\n",
              "4          10       1      293     4.0  1112484703   574    0"
            ]
          },
          "metadata": {
            "tags": []
          },
          "execution_count": 104
        }
      ]
    },
    {
      "cell_type": "markdown",
      "metadata": {
        "id": "_nBj2AmSLvgw"
      },
      "source": [
        "## Download data"
      ]
    },
    {
      "cell_type": "code",
      "metadata": {
        "colab": {
          "base_uri": "https://localhost:8080/"
        },
        "id": "fA6gZMRjFruP",
        "outputId": "0fb6141f-f513-4b13-d775-33e6be58c16d"
      },
      "source": [
        "! rm *.zip\n",
        "! rm -rf data\n",
        "\n",
        "!wget http://files.grouplens.org/datasets/movielens/ml-20m.zip\n",
        "!unzip ml-20m.zip\n",
        "!mkdir data\n",
        "!mv ml-20m data"
      ],
      "execution_count": null,
      "outputs": [
        {
          "output_type": "stream",
          "text": [
            "rm: cannot remove '*.zip': No such file or directory\n",
            "--2021-04-06 14:36:47--  http://files.grouplens.org/datasets/movielens/ml-20m.zip\n",
            "Resolving files.grouplens.org (files.grouplens.org)... 128.101.65.152\n",
            "Connecting to files.grouplens.org (files.grouplens.org)|128.101.65.152|:80... connected.\n",
            "HTTP request sent, awaiting response... 200 OK\n",
            "Length: 198702078 (189M) [application/zip]\n",
            "Saving to: ‘ml-20m.zip’\n",
            "\n",
            "ml-20m.zip          100%[===================>] 189.50M  26.9MB/s    in 7.8s    \n",
            "\n",
            "2021-04-06 14:36:55 (24.4 MB/s) - ‘ml-20m.zip’ saved [198702078/198702078]\n",
            "\n",
            "Archive:  ml-20m.zip\n",
            "   creating: ml-20m/\n",
            "  inflating: ml-20m/genome-scores.csv  \n",
            "  inflating: ml-20m/genome-tags.csv  \n",
            "  inflating: ml-20m/links.csv        \n",
            "  inflating: ml-20m/movies.csv       \n",
            "  inflating: ml-20m/ratings.csv      \n",
            "  inflating: ml-20m/README.txt       \n",
            "  inflating: ml-20m/tags.csv         \n"
          ],
          "name": "stdout"
        }
      ]
    },
    {
      "cell_type": "markdown",
      "metadata": {
        "id": "nzUtKiynL2x1"
      },
      "source": [
        "## Xử lý dữ liệu"
      ]
    },
    {
      "cell_type": "code",
      "metadata": {
        "id": "mansdyyNFuDL"
      },
      "source": [
        "### change `DATA_DIR` to the location where movielens-20m dataset sits\n",
        "DATA_DIR = './data/ml-20m/'"
      ],
      "execution_count": null,
      "outputs": []
    },
    {
      "cell_type": "code",
      "metadata": {
        "id": "_Dm30EQIFvwa"
      },
      "source": [
        "raw_data = pd.read_csv(os.path.join(DATA_DIR, 'ratings.csv'), header=0)"
      ],
      "execution_count": null,
      "outputs": []
    },
    {
      "cell_type": "code",
      "metadata": {
        "colab": {
          "base_uri": "https://localhost:8080/",
          "height": 419
        },
        "id": "7vFkUlbCFxOi",
        "outputId": "5e8abd3e-f52b-473b-868a-2cc410ac3dc9"
      },
      "source": [
        "raw_data = raw_data[raw_data['rating'] > 3.5]\n",
        "raw_data"
      ],
      "execution_count": null,
      "outputs": [
        {
          "output_type": "execute_result",
          "data": {
            "text/html": [
              "<div>\n",
              "<style scoped>\n",
              "    .dataframe tbody tr th:only-of-type {\n",
              "        vertical-align: middle;\n",
              "    }\n",
              "\n",
              "    .dataframe tbody tr th {\n",
              "        vertical-align: top;\n",
              "    }\n",
              "\n",
              "    .dataframe thead th {\n",
              "        text-align: right;\n",
              "    }\n",
              "</style>\n",
              "<table border=\"1\" class=\"dataframe\">\n",
              "  <thead>\n",
              "    <tr style=\"text-align: right;\">\n",
              "      <th></th>\n",
              "      <th>userId</th>\n",
              "      <th>movieId</th>\n",
              "      <th>rating</th>\n",
              "      <th>timestamp</th>\n",
              "    </tr>\n",
              "  </thead>\n",
              "  <tbody>\n",
              "    <tr>\n",
              "      <th>6</th>\n",
              "      <td>1</td>\n",
              "      <td>151</td>\n",
              "      <td>4.0</td>\n",
              "      <td>1094785734</td>\n",
              "    </tr>\n",
              "    <tr>\n",
              "      <th>7</th>\n",
              "      <td>1</td>\n",
              "      <td>223</td>\n",
              "      <td>4.0</td>\n",
              "      <td>1112485573</td>\n",
              "    </tr>\n",
              "    <tr>\n",
              "      <th>8</th>\n",
              "      <td>1</td>\n",
              "      <td>253</td>\n",
              "      <td>4.0</td>\n",
              "      <td>1112484940</td>\n",
              "    </tr>\n",
              "    <tr>\n",
              "      <th>9</th>\n",
              "      <td>1</td>\n",
              "      <td>260</td>\n",
              "      <td>4.0</td>\n",
              "      <td>1112484826</td>\n",
              "    </tr>\n",
              "    <tr>\n",
              "      <th>10</th>\n",
              "      <td>1</td>\n",
              "      <td>293</td>\n",
              "      <td>4.0</td>\n",
              "      <td>1112484703</td>\n",
              "    </tr>\n",
              "    <tr>\n",
              "      <th>...</th>\n",
              "      <td>...</td>\n",
              "      <td>...</td>\n",
              "      <td>...</td>\n",
              "      <td>...</td>\n",
              "    </tr>\n",
              "    <tr>\n",
              "      <th>20000256</th>\n",
              "      <td>138493</td>\n",
              "      <td>66762</td>\n",
              "      <td>4.5</td>\n",
              "      <td>1255805408</td>\n",
              "    </tr>\n",
              "    <tr>\n",
              "      <th>20000257</th>\n",
              "      <td>138493</td>\n",
              "      <td>68319</td>\n",
              "      <td>4.5</td>\n",
              "      <td>1260209720</td>\n",
              "    </tr>\n",
              "    <tr>\n",
              "      <th>20000258</th>\n",
              "      <td>138493</td>\n",
              "      <td>68954</td>\n",
              "      <td>4.5</td>\n",
              "      <td>1258126920</td>\n",
              "    </tr>\n",
              "    <tr>\n",
              "      <th>20000259</th>\n",
              "      <td>138493</td>\n",
              "      <td>69526</td>\n",
              "      <td>4.5</td>\n",
              "      <td>1259865108</td>\n",
              "    </tr>\n",
              "    <tr>\n",
              "      <th>20000261</th>\n",
              "      <td>138493</td>\n",
              "      <td>70286</td>\n",
              "      <td>5.0</td>\n",
              "      <td>1258126944</td>\n",
              "    </tr>\n",
              "  </tbody>\n",
              "</table>\n",
              "<p>9995410 rows × 4 columns</p>\n",
              "</div>"
            ],
            "text/plain": [
              "          userId  movieId  rating   timestamp\n",
              "6              1      151     4.0  1094785734\n",
              "7              1      223     4.0  1112485573\n",
              "8              1      253     4.0  1112484940\n",
              "9              1      260     4.0  1112484826\n",
              "10             1      293     4.0  1112484703\n",
              "...          ...      ...     ...         ...\n",
              "20000256  138493    66762     4.5  1255805408\n",
              "20000257  138493    68319     4.5  1260209720\n",
              "20000258  138493    68954     4.5  1258126920\n",
              "20000259  138493    69526     4.5  1259865108\n",
              "20000261  138493    70286     5.0  1258126944\n",
              "\n",
              "[9995410 rows x 4 columns]"
            ]
          },
          "metadata": {
            "tags": []
          },
          "execution_count": 5
        }
      ]
    },
    {
      "cell_type": "code",
      "metadata": {
        "id": "iEtwnvbodC1I"
      },
      "source": [
        "def filter_data(data,key):\n",
        "  # chỉ giữ lại những user vote ít nhất 5 items\n",
        "  df = data.copy()\n",
        "  count_movie_on_user =  df.groupby(key).count()\n",
        "  user_id = count_movie_on_user[count_movie_on_user.movieId>= 5].index\n",
        "  filtered = df[df[key].isin(user_id)]\n",
        "  return filtered\n"
      ],
      "execution_count": null,
      "outputs": []
    },
    {
      "cell_type": "code",
      "metadata": {
        "id": "z1AcGhdMDT8P"
      },
      "source": [
        "# filtered = filter_data(raw_data,'userId')"
      ],
      "execution_count": null,
      "outputs": []
    },
    {
      "cell_type": "code",
      "metadata": {
        "id": "ZCkNHTYL9s9m"
      },
      "source": [
        ""
      ],
      "execution_count": null,
      "outputs": []
    },
    {
      "cell_type": "code",
      "metadata": {
        "id": "GiYwoJgCg3DG"
      },
      "source": [
        "list_user = raw_data.userId.unique()\n",
        "# CHia data thành các tập train test và validation theo train test split\n",
        "# train_user, test_user = train_test_split(list_user, test_size=0.2, random_state=42)\n",
        "# train_user, val_user =  train_test_split(train_user, test_size=0.2, random_state=41)\n",
        "\n",
        "\n",
        "# 10,000 user để đánh giá \n",
        "np.random.seed(98765)\n",
        "idx_perm = np.random.permutation(len(list_user))\n",
        "list_user = list_user[idx_perm]\n",
        "\n",
        "n_heldout_users = 10_000\n",
        "\n",
        "train_user = list_user[:-n_heldout_users * 2]\n",
        "val_user = list_user[- n_heldout_users :]\n",
        "test_user = list_user[ -2*n_heldout_users: -n_heldout_users]"
      ],
      "execution_count": null,
      "outputs": []
    },
    {
      "cell_type": "code",
      "metadata": {
        "id": "up28RqNxosuq"
      },
      "source": [
        ""
      ],
      "execution_count": null,
      "outputs": []
    },
    {
      "cell_type": "code",
      "metadata": {
        "id": "jvBIxMHyvWNf"
      },
      "source": [
        "# Chia thành các tập train, test, validation từ tập user đã được chia\n",
        "train_data = raw_data[raw_data.userId.isin(train_user)].copy()\n",
        "val_data = raw_data[raw_data.userId.isin(val_user)].copy()\n",
        "test_data = raw_data[raw_data.userId.isin(test_user)].copy()\n",
        "\n",
        "# chỉ giữ lại những user đã vote ít nhất 5 movies\n",
        "train_data = filter_data(train_data,'userId')\n",
        "val_data = filter_data(val_data,'userId')\n",
        "test_data = filter_data(test_data,'userId')\n"
      ],
      "execution_count": null,
      "outputs": []
    },
    {
      "cell_type": "code",
      "metadata": {
        "id": "2c06YycbfMA9"
      },
      "source": [
        "# Từ tập train lấy ra danh sách id của tập train, tập validation và tập test chỉ giữ những records có danh sách phim trong tập train.\n",
        "unique_sid_train = train_data.movieId.unique()\n",
        "val_data = val_data[val_data.movieId.isin(unique_sid_train)]\n",
        "test_data = test_data[test_data.movieId.isin(unique_sid_train)]\n",
        "\n",
        "\n",
        "# Gán lại id cho danh sách movies\n",
        "show2id = dict((sid, i) for (i, sid) in enumerate(train_data.movieId.unique()))\n",
        "\n",
        "train_data['sid'] = train_data.movieId.apply(lambda x:show2id[x])\n",
        "test_data['sid'] = test_data.movieId.apply(lambda x:show2id[x])\n",
        "val_data['sid'] = val_data.movieId.apply(lambda x:show2id[x])\n",
        "\n"
      ],
      "execution_count": null,
      "outputs": []
    },
    {
      "cell_type": "code",
      "metadata": {
        "id": "95jHA5juw3XY"
      },
      "source": [
        "\n",
        "\n"
      ],
      "execution_count": null,
      "outputs": []
    },
    {
      "cell_type": "code",
      "metadata": {
        "id": "DsIxuyhbBOnJ"
      },
      "source": [
        ""
      ],
      "execution_count": null,
      "outputs": []
    },
    {
      "cell_type": "code",
      "metadata": {
        "id": "J_9sErarXFqC"
      },
      "source": [
        "# gán lại id cho danh sách user \n",
        "train_uid = dict((uid, i) for (i, uid) in enumerate(train_data.userId.unique()))\n",
        "val_uid = dict((uid, i) for (i, uid) in enumerate(val_data.userId.unique()))\n",
        "test_uid = dict((uid, i) for (i, uid) in enumerate(test_data.userId.unique()))\n",
        "\n",
        "train_data['uid'] = train_data.userId.apply(lambda x:train_uid[x])\n",
        "val_data['uid'] = val_data.userId.apply(lambda x:val_uid[x])\n",
        "test_data['uid'] = test_data.userId.apply(lambda x:test_uid[x])\n"
      ],
      "execution_count": null,
      "outputs": []
    },
    {
      "cell_type": "code",
      "metadata": {
        "colab": {
          "base_uri": "https://localhost:8080/"
        },
        "id": "og8WVxcjpZHA",
        "outputId": "14ffd12a-f4d1-48cb-90c8-16ccbd1ece83"
      },
      "source": [
        "train_data.uid.nunique(),val_data.uid.nunique(),test_data.uid.nunique()"
      ],
      "execution_count": null,
      "outputs": [
        {
          "output_type": "execute_result",
          "data": {
            "text/plain": [
              "(116907, 9895, 9875)"
            ]
          },
          "metadata": {
            "tags": []
          },
          "execution_count": 27
        }
      ]
    },
    {
      "cell_type": "markdown",
      "metadata": {
        "id": "hK0Sv9YHEQIC"
      },
      "source": [
        "# Save data"
      ]
    },
    {
      "cell_type": "code",
      "metadata": {
        "id": "cynZW_Y0p6Du"
      },
      "source": [
        ""
      ],
      "execution_count": null,
      "outputs": []
    },
    {
      "cell_type": "code",
      "metadata": {
        "colab": {
          "base_uri": "https://localhost:8080/"
        },
        "id": "iDD5m0sDp9G-",
        "outputId": "d16f4ddf-fed9-4edf-f923-d4bb1a34410d"
      },
      "source": [
        "from google.colab import drive\n",
        "drive.mount('/content/drive')"
      ],
      "execution_count": null,
      "outputs": [
        {
          "output_type": "stream",
          "text": [
            "Mounted at /content/drive\n"
          ],
          "name": "stdout"
        }
      ]
    },
    {
      "cell_type": "code",
      "metadata": {
        "id": "T68UnevRwBK5"
      },
      "source": [
        "data_path = '/content/drive/MyDrive/data/ml-20m/'"
      ],
      "execution_count": null,
      "outputs": []
    },
    {
      "cell_type": "code",
      "metadata": {
        "id": "sYlj-JJPncri"
      },
      "source": [
        "train_data.to_csv(data_path + 'train.csv',index=False)\n",
        "val_data.to_csv(data_path + 'val.csv',index=False)\n",
        "test_data.to_csv(data_path + 'test.csv',index=False)"
      ],
      "execution_count": null,
      "outputs": []
    },
    {
      "cell_type": "code",
      "metadata": {
        "id": "rTBuBHjfoMLY"
      },
      "source": [
        "train_data = pd.read_csv(data_path+'train.csv')\n",
        "val_data = pd.read_csv(data_path+'val.csv')\n",
        "test_data = pd.read_csv(data_path+'test.csv')"
      ],
      "execution_count": null,
      "outputs": []
    }
  ]
}